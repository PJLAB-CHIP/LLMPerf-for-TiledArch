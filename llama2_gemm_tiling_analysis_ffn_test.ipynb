{
 "cells": [
  {
   "cell_type": "code",
   "execution_count": 25,
   "metadata": {},
   "outputs": [],
   "source": [
    "# -*- coding: utf-8 -*-\n",
    "from gemm_tiling import gemm_tiling_input_stationary, gemm_tiling_weight_stationary\n",
    "import transformer_block as tbk\n",
    "import arch_execution as arch\n",
    "from util import *\n",
    "import math\n",
    "from mapper import *"
   ]
  },
  {
   "cell_type": "code",
   "execution_count": 26,
   "metadata": {},
   "outputs": [],
   "source": [
    "llm_config = load_config(\"./input/transformer/input0.json\")\n",
    "model = tbk.Llama_block(llm_config)\n",
    "tx8_config = load_config('hardware_parameter.json')\n",
    "hardware = arch.Tx8(tx8_config)\n",
    "Layers = model.config['L']\n",
    "ops = model.ops\n",
    "mapping_result = {}"
   ]
  },
  {
   "cell_type": "code",
   "execution_count": 27,
   "metadata": {},
   "outputs": [
    {
     "name": "stdout",
     "output_type": "stream",
     "text": [
      "FFN Up analysis, B=16\n",
      "FFN Up, M=4096, K=4096, N=11008, B=16, tile_m=4, tile_n=86, stationary: input, utilization=98.28%\n",
      "输入不复用则SRAM满足要求\n",
      "$$$$$$$$$$$$$$$$$$$$$$$$$$$$$$$$$$$$$\n",
      "weight Stationary, Tm_Tn=[4, 86], Hardware utilization: 77.20%\n",
      "$$$$$$$$$$$$$$$$$$$$$$$$$$$$$$$$$$$$$\n"
     ]
    }
   ],
   "source": [
    "# =============== FNN Up  ===================\n",
    "# FFN Gate 与 FFN Up是完全同样的size的计算，这里不列出了\n",
    "M, K, N = 4096, 4096, 11008\n",
    "details = False\n",
    "\n",
    "\n",
    "B = 16\n",
    "tile_m = 4\n",
    "tile_n = 86\n",
    "print(f\"FFN Up analysis, B={B}\")\n",
    "utilization = gemm_tiling_weight_stationary(\n",
    "    B, M, K, N, tile_m, tile_n, print_details=False)\n",
    "print(f\"FFN Up, M={M}, K={K}, N={N}, B={B}, tile_m={tile_m}, tile_n={tile_n}, stationary: input, utilization={utilization:.2f}%\")\n",
    "\n",
    "\n",
    "# [N/tile_n, B*M/tile_m] -- SRAM exceed -- debug shape info\n",
    "Tm_Tn = [int(tile_m), int(tile_n)]\n",
    "input_stationary = False  # ishape <--> oshape, internal exchange shape\n",
    "\n",
    "mapping_result['FFNup'] = gemm_auto_opt_mapper(\n",
    "    ops['FFNup'], hardware, input_stationary=input_stationary, Tm_Tn=Tm_Tn, details=details)\n",
    "utilization = mapping_result['FFNup'][\"utilization\"]*100\n",
    "stationary = \"input\" if input_stationary else \"weight\"\n",
    "print(f\"$$$$$$$$$$$$$$$$$$$$$$$$$$$$$$$$$$$$$\")\n",
    "print(f\"{stationary} Stationary, Tm_Tn={Tm_Tn}, Hardware utilization: {utilization:.2f}%\")\n",
    "print(f\"$$$$$$$$$$$$$$$$$$$$$$$$$$$$$$$$$$$$$\")"
   ]
  },
  {
   "cell_type": "code",
   "execution_count": 28,
   "metadata": {},
   "outputs": [
    {
     "name": "stdout",
     "output_type": "stream",
     "text": [
      "Warning: using defautl buffer strategy, nedd total memory 5.628906 MB, > SRAM 3.0 MB\n",
      "Warning: change input buffer strategy to input_buffer_num =  1\n",
      "FFN Down, M=4096, K=11008, N=4096, B=16, tile_m=4, tile_n=128, stationary: weight, utilization=98.23%\n",
      "$$$$$$$$$$$$$$$$$$$$$$$$$$$$$$$$$$$$$\n",
      "weight Stationary, Tm_Tn=[4, 128], Hardware utilization: 77.71%\n",
      "$$$$$$$$$$$$$$$$$$$$$$$$$$$$$$$$$$$$$\n"
     ]
    }
   ],
   "source": [
    "# =============== FNN down  ===================\n",
    "M, K, N = 4096, 11008, 4096\n",
    "\n",
    "B = 16\n",
    "tile_m, tile_n = 4, 128\n",
    "utilization = gemm_tiling_weight_stationary(\n",
    "    B, M, K, N, tile_m, tile_n, print_details=False)\n",
    "print(f\"FFN Down, M={M}, K={K}, N={N}, B={B}, tile_m={tile_m}, tile_n={tile_n}, stationary: weight, utilization={utilization:.2f}%\")\n",
    "\n",
    "# [N/tile_n, B*M/tile_m] -- SRAM exceed -- debug shape info\n",
    "Tm_Tn = [int(tile_m), int(tile_n)]\n",
    "input_stationary = False  # ishape <--> oshape, internal exchange shape\n",
    "\n",
    "mapping_result['FFN2'] = gemm_auto_opt_mapper(\n",
    "    ops['FFN2'], hardware, input_stationary=input_stationary, Tm_Tn=Tm_Tn, details=details)\n",
    "utilization = mapping_result['FFN2'][\"utilization\"]*100\n",
    "stationary = \"input\" if input_stationary else \"weight\"\n",
    "print(f\"$$$$$$$$$$$$$$$$$$$$$$$$$$$$$$$$$$$$$\")\n",
    "print(f\"{stationary} Stationary, Tm_Tn={Tm_Tn}, Hardware utilization: {utilization:.2f}%\")\n",
    "print(f\"$$$$$$$$$$$$$$$$$$$$$$$$$$$$$$$$$$$$$\")"
   ]
  }
 ],
 "metadata": {
  "kernelspec": {
   "display_name": "base",
   "language": "python",
   "name": "python3"
  },
  "language_info": {
   "codemirror_mode": {
    "name": "ipython",
    "version": 3
   },
   "file_extension": ".py",
   "mimetype": "text/x-python",
   "name": "python",
   "nbconvert_exporter": "python",
   "pygments_lexer": "ipython3",
   "version": "3.10.13"
  }
 },
 "nbformat": 4,
 "nbformat_minor": 2
}

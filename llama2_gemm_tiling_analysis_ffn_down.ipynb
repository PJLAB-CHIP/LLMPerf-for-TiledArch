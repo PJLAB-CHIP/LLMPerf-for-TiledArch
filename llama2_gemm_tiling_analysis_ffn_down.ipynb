{
 "cells": [
  {
   "cell_type": "code",
   "execution_count": 54,
   "metadata": {},
   "outputs": [],
   "source": [
    "# -*- coding: utf-8 -*-\n",
    "from gemm_tiling import gemm_tiling_input_stationary, gemm_tiling_weight_stationary"
   ]
  },
  {
   "cell_type": "code",
   "execution_count": 55,
   "metadata": {},
   "outputs": [
    {
     "name": "stdout",
     "output_type": "stream",
     "text": [
      "Warning: using defautl buffer strategy, nedd total memory 5.628906 MB, > SRAM 3.0 MB\n",
      "Warning: change input buffer strategy to input_buffer_num =  1\n",
      "FFN Down, M=4096, K=11008, N=4096, B=1, tile_m=128, tile_n=4, stationary: input, utilization=77.63%\n",
      "Warning: using defautl buffer strategy, nedd total memory 4.284668 MB, > SRAM 3.0 MB\n",
      "Warning: change input buffer strategy to input_buffer_num =  1\n",
      "FFN Down, M=4096, K=11008, N=4096, B=1, tile_m=96, tile_n=4, stationary: input, utilization=69.16%\n",
      "FFN Down, M=4096, K=11008, N=4096, B=1, tile_m=32, tile_n=16, stationary: input, utilization=39.83%\n",
      "Warning: using defautl buffer strategy, nedd total memory 3.193359 MB, > SRAM 3.0 MB\n",
      "Warning: change input buffer strategy to input_buffer_num =  1\n",
      "FFN Down, M=4096, K=11008, N=4096, B=1, tile_m=8, tile_n=64, stationary: weight, utilization=69.37%\n",
      "Warning: using defautl buffer strategy, nedd total memory 3.699219 MB, > SRAM 3.0 MB\n",
      "Warning: change input buffer strategy to input_buffer_num =  1\n",
      "FFN Down, M=4096, K=11008, N=4096, B=1, tile_m=16, tile_n=64, stationary: weight, utilization=70.36%\n",
      "Warning: using defautl buffer strategy, nedd total memory 4.284668 MB, > SRAM 3.0 MB\n",
      "Warning: change input buffer strategy to input_buffer_num =  1\n",
      "FFN Down, M=4096, K=11008, N=4096, B=1, tile_m=4, tile_n=96, stationary: weight, utilization=69.16%\n",
      "Warning: using defautl buffer strategy, nedd total memory 5.628906 MB, > SRAM 3.0 MB\n",
      "Warning: change input buffer strategy to input_buffer_num =  1\n",
      "FFN Down, M=4096, K=11008, N=4096, B=1, tile_m=4, tile_n=128, stationary: weight, utilization=77.63%\n"
     ]
    }
   ],
   "source": [
    "# =============== FNN down  ===================\n",
    "M, K, N = 4096, 11008, 4096\n",
    "B = 1\n",
    "\n",
    "\n",
    "tile_m, tile_n = 128, 4\n",
    "utilization = gemm_tiling_input_stationary(B, M, K, N, tile_m, tile_n, print_details=False)\n",
    "print(f\"FFN Down, M={M}, K={K}, N={N}, B={B}, tile_m={tile_m}, tile_n={tile_n}, stationary: input, utilization={utilization:.2f}%\")\n",
    "\n",
    "tile_m, tile_n = 96, 4\n",
    "utilization = gemm_tiling_input_stationary(B, M, K, N, tile_m, tile_n, print_details=False)\n",
    "print(f\"FFN Down, M={M}, K={K}, N={N}, B={B}, tile_m={tile_m}, tile_n={tile_n}, stationary: input, utilization={utilization:.2f}%\")\n",
    "\n",
    "\n",
    "tile_m, tile_n = 32, 16\n",
    "utilization = gemm_tiling_input_stationary(B, M, K, N, tile_m, tile_n, print_details=False)\n",
    "print(f\"FFN Down, M={M}, K={K}, N={N}, B={B}, tile_m={tile_m}, tile_n={tile_n}, stationary: input, utilization={utilization:.2f}%\")\n",
    "\n",
    "\n",
    "tile_m, tile_n = 8, 64\n",
    "utilization = gemm_tiling_weight_stationary(B, M, K, N, tile_m, tile_n, print_details=False)\n",
    "print(f\"FFN Down, M={M}, K={K}, N={N}, B={B}, tile_m={tile_m}, tile_n={tile_n}, stationary: weight, utilization={utilization:.2f}%\")\n",
    "\n",
    "tile_m, tile_n = 16, 64\n",
    "utilization = gemm_tiling_weight_stationary(B, M, K, N, tile_m, tile_n, print_details=False)\n",
    "print(f\"FFN Down, M={M}, K={K}, N={N}, B={B}, tile_m={tile_m}, tile_n={tile_n}, stationary: weight, utilization={utilization:.2f}%\")\n",
    "\n",
    "tile_m, tile_n = 4, 96\n",
    "utilization = gemm_tiling_weight_stationary(B, M, K, N, tile_m, tile_n, print_details=False)\n",
    "print(f\"FFN Down, M={M}, K={K}, N={N}, B={B}, tile_m={tile_m}, tile_n={tile_n}, stationary: weight, utilization={utilization:.2f}%\")\n",
    "\n",
    "tile_m, tile_n = 4, 128\n",
    "utilization = gemm_tiling_weight_stationary(B, M, K, N, tile_m, tile_n, print_details=False)\n",
    "print(f\"FFN Down, M={M}, K={K}, N={N}, B={B}, tile_m={tile_m}, tile_n={tile_n}, stationary: weight, utilization={utilization:.2f}%\")"
   ]
  },
  {
   "cell_type": "code",
   "execution_count": 56,
   "metadata": {},
   "outputs": [
    {
     "name": "stdout",
     "output_type": "stream",
     "text": [
      "Warning: using defautl buffer strategy, nedd total memory 5.628906 MB, > SRAM 3.0 MB\n",
      "Warning: change input buffer strategy to input_buffer_num =  1\n",
      "FFN Down, M=4096, K=11008, N=4096, B=16, tile_m=128, tile_n=4, stationary: input, utilization=78.33%\n",
      "Warning: using defautl buffer strategy, nedd total memory 4.284668 MB, > SRAM 3.0 MB\n",
      "Warning: change input buffer strategy to input_buffer_num =  1\n",
      "FFN Down, M=4096, K=11008, N=4096, B=16, tile_m=96, tile_n=4, stationary: input, utilization=77.72%\n",
      "FFN Down, M=4096, K=11008, N=4096, B=16, tile_m=32, tile_n=16, stationary: input, utilization=40.32%\n",
      "Warning: using defautl buffer strategy, nedd total memory 3.193359 MB, > SRAM 3.0 MB\n",
      "Warning: change input buffer strategy to input_buffer_num =  1\n",
      "FFN Down, M=4096, K=11008, N=4096, B=16, tile_m=8, tile_n=64, stationary: weight, utilization=84.34%\n",
      "Warning: using defautl buffer strategy, nedd total memory 3.699219 MB, > SRAM 3.0 MB\n",
      "Warning: change input buffer strategy to input_buffer_num =  1\n",
      "FFN Down, M=4096, K=11008, N=4096, B=16, tile_m=16, tile_n=64, stationary: weight, utilization=84.58%\n",
      "Warning: using defautl buffer strategy, nedd total memory 4.284668 MB, > SRAM 3.0 MB\n",
      "Warning: change input buffer strategy to input_buffer_num =  1\n",
      "FFN Down, M=4096, K=11008, N=4096, B=16, tile_m=4, tile_n=96, stationary: weight, utilization=87.33%\n",
      "Warning: using defautl buffer strategy, nedd total memory 5.628906 MB, > SRAM 3.0 MB\n",
      "Warning: change input buffer strategy to input_buffer_num =  1\n",
      "FFN Down, M=4096, K=11008, N=4096, B=16, tile_m=4, tile_n=128, stationary: weight, utilization=98.23%\n"
     ]
    }
   ],
   "source": [
    "# =============== FNN down  ===================\n",
    "M, K, N = 4096, 11008, 4096\n",
    "B = 16\n",
    "\n",
    "tile_m, tile_n = 128, 4\n",
    "utilization = gemm_tiling_input_stationary(B, M, K, N, tile_m, tile_n, print_details=False)\n",
    "print(f\"FFN Down, M={M}, K={K}, N={N}, B={B}, tile_m={tile_m}, tile_n={tile_n}, stationary: input, utilization={utilization:.2f}%\")\n",
    "\n",
    "tile_m, tile_n = 96, 4\n",
    "utilization = gemm_tiling_input_stationary(B, M, K, N, tile_m, tile_n, print_details=False)\n",
    "print(f\"FFN Down, M={M}, K={K}, N={N}, B={B}, tile_m={tile_m}, tile_n={tile_n}, stationary: input, utilization={utilization:.2f}%\")\n",
    "\n",
    "\n",
    "tile_m, tile_n = 32, 16\n",
    "utilization = gemm_tiling_input_stationary(B, M, K, N, tile_m, tile_n, print_details=False)\n",
    "print(f\"FFN Down, M={M}, K={K}, N={N}, B={B}, tile_m={tile_m}, tile_n={tile_n}, stationary: input, utilization={utilization:.2f}%\")\n",
    "\n",
    "\n",
    "tile_m, tile_n = 8, 64\n",
    "utilization = gemm_tiling_weight_stationary(B, M, K, N, tile_m, tile_n, print_details=False)\n",
    "print(f\"FFN Down, M={M}, K={K}, N={N}, B={B}, tile_m={tile_m}, tile_n={tile_n}, stationary: weight, utilization={utilization:.2f}%\")\n",
    "\n",
    "tile_m, tile_n = 16, 64\n",
    "utilization = gemm_tiling_weight_stationary(B, M, K, N, tile_m, tile_n, print_details=False)\n",
    "print(f\"FFN Down, M={M}, K={K}, N={N}, B={B}, tile_m={tile_m}, tile_n={tile_n}, stationary: weight, utilization={utilization:.2f}%\")\n",
    "\n",
    "tile_m, tile_n = 4, 96\n",
    "utilization = gemm_tiling_weight_stationary(B, M, K, N, tile_m, tile_n, print_details=False)\n",
    "print(f\"FFN Down, M={M}, K={K}, N={N}, B={B}, tile_m={tile_m}, tile_n={tile_n}, stationary: weight, utilization={utilization:.2f}%\")\n",
    "\n",
    "tile_m, tile_n = 4, 128\n",
    "utilization = gemm_tiling_weight_stationary(B, M, K, N, tile_m, tile_n, print_details=False)\n",
    "print(f\"FFN Down, M={M}, K={K}, N={N}, B={B}, tile_m={tile_m}, tile_n={tile_n}, stationary: weight, utilization={utilization:.2f}%\")"
   ]
  },
  {
   "cell_type": "markdown",
   "metadata": {},
   "source": [
    "详细分析"
   ]
  },
  {
   "cell_type": "code",
   "execution_count": 57,
   "metadata": {},
   "outputs": [
    {
     "name": "stdout",
     "output_type": "stream",
     "text": [
      "Warning: using defautl buffer strategy, nedd total memory 5.628906 MB, > SRAM 3.0 MB\n",
      "Warning: change input buffer strategy to input_buffer_num =  1\n",
      "=========memory anylasis ===================\n",
      "+-------------------+--------------------------+\n",
      "|        var        |         mem (MB)         |\n",
      "+-------------------+--------------------------+\n",
      "|    input_size     | 2.687500 * 1 =  2.687500 |\n",
      "|    weight_size    | 0.083984 * 3 =  0.251953 |\n",
      "|    output_size    | 0.000977 * 2 =  0.001953 |\n",
      "|    total_size     |         2.941406         |\n",
      "| input_load_iters  |            2             |\n",
      "| weight_load_iters |           1024           |\n",
      "+-------------------+--------------------------+\n",
      "=========unit time anylasis ===================\n",
      "+-----------------------+------------+\n",
      "|         unit          | time (us)  |\n",
      "+-----------------------+------------+\n",
      "|    input_load_time    | 420.021875 |\n",
      "|   weight_load_time    | 13.222559  |\n",
      "|    weight_noc_time    |  0.650750  |\n",
      "| compute_time_one_tile |  1.409024  |\n",
      "|   output_save_time    |  0.252588  |\n",
      "+-----------------------+------------+\n",
      "=========internal time anylasis ===================\n",
      "+--------------------------+------------+\n",
      "|           item           | time (us)  |\n",
      "+--------------------------+------------+\n",
      "|  time_one_noc_pipe_flow  | 22.544384  |\n",
      "|     time_one_iter_w      | 22.544384  |\n",
      "|     time_one_iter_in     | 420.672625 |\n",
      "| compute_time_in_one_iter | 22.544384  |\n",
      "+--------------------------+------------+\n",
      "=========final time anylasis ===================\n",
      "+-----------------------+--------------+------------+\n",
      "|         item          |  time (us)   | percentage |\n",
      "+-----------------------+--------------+------------+\n",
      "|   inital_load_time    |  433.244434  |   0.92%    |\n",
      "| iter_over_weight_time | 46125.809664 |   98.13%   |\n",
      "| iter_over_input_time  |  420.672625  |   0.90%    |\n",
      "|    last_iter_time     |  22.544384   |   0.05%    |\n",
      "|      total_time       | 47002.523694 |    100%    |\n",
      "|  total_compute_time   | 46170.898432 |   98.23%   |\n",
      "|      utilization      |    98.23%    |            |\n",
      "+-----------------------+--------------+------------+\n",
      "FFN Up, M=4096, K=11008, N=4096, B=16, tile_m=4, tile_n=128, stationary: weight, utilization=98.23%\n"
     ]
    }
   ],
   "source": [
    "# =============== FNN down  ===================\n",
    "M, K, N = 4096, 11008, 4096\n",
    "B = 16\n",
    "\n",
    "tile_m, tile_n = 4, 128\n",
    "utilization = gemm_tiling_weight_stationary(B, M, K, N, tile_m, tile_n, print_details=True)\n",
    "print(f\"FFN Up, M={M}, K={K}, N={N}, B={B}, tile_m={tile_m}, tile_n={tile_n}, stationary: weight, utilization={utilization:.2f}%\")"
   ]
  }
 ],
 "metadata": {
  "kernelspec": {
   "display_name": "base",
   "language": "python",
   "name": "python3"
  },
  "language_info": {
   "codemirror_mode": {
    "name": "ipython",
    "version": 3
   },
   "file_extension": ".py",
   "mimetype": "text/x-python",
   "name": "python",
   "nbconvert_exporter": "python",
   "pygments_lexer": "ipython3",
   "version": "3.9.12"
  }
 },
 "nbformat": 4,
 "nbformat_minor": 2
}
